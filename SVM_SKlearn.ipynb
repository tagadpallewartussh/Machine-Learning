{
 "cells": [
  {
   "cell_type": "code",
   "execution_count": 3,
   "metadata": {},
   "outputs": [
    {
     "name": "stdout",
     "output_type": "stream",
     "text": [
      "Accuracy :  0.7\n",
      "Accuracies :  0.7\n",
      "Accuracy :  0.5928571428571429\n",
      "Accuracies :  0.6464285714285714\n",
      "Accuracy :  0.6\n",
      "Accuracies :  0.6309523809523809\n",
      "Accuracy :  0.6214285714285714\n",
      "Accuracies :  0.6285714285714286\n",
      "Accuracy :  0.6428571428571429\n",
      "Accuracies :  0.6314285714285715\n",
      "Accuracy :  0.6357142857142857\n",
      "Accuracies :  0.6321428571428571\n",
      "Accuracy :  0.7428571428571429\n",
      "Accuracies :  0.6479591836734694\n",
      "Accuracy :  0.5714285714285714\n",
      "Accuracies :  0.6383928571428571\n",
      "Accuracy :  0.6857142857142857\n",
      "Accuracies :  0.6436507936507936\n",
      "Accuracy :  0.65\n",
      "Accuracies :  0.6442857142857144\n",
      "Accuracy :  0.6\n",
      "Accuracies :  0.6402597402597402\n",
      "Accuracy :  0.6142857142857143\n",
      "Accuracies :  0.638095238095238\n",
      "Accuracy :  0.65\n",
      "Accuracies :  0.639010989010989\n",
      "Accuracy :  0.6785714285714286\n",
      "Accuracies :  0.6418367346938776\n",
      "Accuracy :  0.65\n",
      "Accuracies :  0.6423809523809524\n",
      "Accuracy :  0.6928571428571428\n",
      "Accuracies :  0.6455357142857143\n",
      "Accuracy :  0.65\n",
      "Accuracies :  0.6457983193277311\n",
      "Accuracy :  0.6571428571428571\n",
      "Accuracies :  0.6464285714285715\n",
      "Accuracy :  0.6785714285714286\n",
      "Accuracies :  0.6481203007518798\n",
      "Accuracy :  0.5928571428571429\n",
      "Accuracies :  0.645357142857143\n",
      "Accuracy :  0.7071428571428572\n",
      "Accuracies :  0.6482993197278912\n",
      "Accuracy :  0.6285714285714286\n",
      "Accuracies :  0.6474025974025974\n",
      "Accuracy :  0.5928571428571429\n",
      "Accuracies :  0.6450310559006212\n",
      "Accuracy :  0.5785714285714286\n",
      "Accuracies :  0.6422619047619048\n",
      "Accuracy :  0.65\n",
      "Accuracies :  0.6425714285714287\n"
     ]
    }
   ],
   "source": [
    "import numpy as np\n",
    "from sklearn import preprocessing, model_selection, neighbors, svm\n",
    "import pandas as pd\n",
    "\n",
    "accuracies = []\n",
    "for i in range(25):\n",
    "    df = pd.read_csv('C:/Users/Tushar/Documents/SentDex ML/breast-cancer-wisconsin.data')\n",
    "    df.replace('?',-99999, inplace = True)     \n",
    "    df.drop(['id'],1,inplace = True)   \n",
    "                     \n",
    "    X = np.array(df.drop(['class'],1))\n",
    "    y = np.array(df['class'])\n",
    "                     \n",
    "    X_train, X_test, y_train, y_test = model_selection.train_test_split(X,y,test_size = 0.2)\n",
    "    \n",
    "    clf = svm.SVC()\n",
    "    clf.fit(X_train, y_train)\n",
    "       \n",
    "    accuracy = clf.score(X_test, y_test)                 \n",
    "                     \n",
    "    print('Accuracy : ',accuracy)\n",
    "    accuracies.append(accuracy)\n",
    "                     \n",
    "    print('Accuracies : ',sum(accuracies)/len(accuracies))"
   ]
  },
  {
   "cell_type": "code",
   "execution_count": null,
   "metadata": {},
   "outputs": [],
   "source": []
  }
 ],
 "metadata": {
  "kernelspec": {
   "display_name": "Python 3",
   "language": "python",
   "name": "python3"
  },
  "language_info": {
   "codemirror_mode": {
    "name": "ipython",
    "version": 3
   },
   "file_extension": ".py",
   "mimetype": "text/x-python",
   "name": "python",
   "nbconvert_exporter": "python",
   "pygments_lexer": "ipython3",
   "version": "3.7.6"
  }
 },
 "nbformat": 4,
 "nbformat_minor": 4
}
