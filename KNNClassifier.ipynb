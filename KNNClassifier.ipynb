{
 "cells": [
  {
   "cell_type": "code",
   "execution_count": 3,
   "metadata": {},
   "outputs": [
    {
     "name": "stdout",
     "output_type": "stream",
     "text": [
      "Accuracy : 0.9571428571428572\n",
      "Accuracy : 0.9714285714285714\n",
      "Accuracy : 0.9714285714285714\n",
      "Accuracy : 0.9785714285714285\n",
      "Accuracy : 0.9642857142857143\n",
      "Accuracy : 0.9714285714285714\n",
      "Accuracy : 0.9857142857142858\n",
      "Accuracy : 0.9571428571428572\n",
      "Accuracy : 0.9785714285714285\n",
      "Accuracy : 0.9571428571428572\n",
      "Accuracy : 0.9714285714285714\n",
      "Accuracy : 0.9642857142857143\n",
      "Accuracy : 0.9857142857142858\n",
      "Accuracy : 0.95\n",
      "Accuracy : 0.9785714285714285\n",
      "Accuracy : 0.9642857142857143\n",
      "Accuracy : 0.9642857142857143\n",
      "Accuracy : 0.9642857142857143\n",
      "Accuracy : 0.9928571428571429\n",
      "Accuracy : 0.95\n",
      "Accuracy : 0.9714285714285714\n",
      "Accuracy : 0.9642857142857143\n",
      "Accuracy : 0.9714285714285714\n",
      "Accuracy : 0.9571428571428572\n",
      "Accuracy : 0.9785714285714285\n"
     ]
    }
   ],
   "source": [
    "import numpy as np\n",
    "from sklearn import preprocessing, model_selection, neighbors\n",
    "import pandas as pd\n",
    "\n",
    "accuracies = []\n",
    "\n",
    "for i in range(25):\n",
    "    df = pd.read_csv('C:/Users/Tushar/Documents/SentDex ML/breast-cancer-wisconsin.data')\n",
    "    df.replace('?',-99999, inplace=True)\n",
    "    df.drop(['id'],1,inplace=True) #droping id column as it is outlier\n",
    "    \n",
    "    X = np.array(df.drop(['class'],1))\n",
    "    y = np.array(df['class'])\n",
    "    \n",
    "    X_train, X_test, y_train, y_test = model_selection.train_test_split(X,y,test_size = 0.2)\n",
    "    \n",
    "    clf = neighbors.KNeighborsClassifier()\n",
    "    clf.fit(X_train, y_train)\n",
    "\n",
    "    accuracy = clf.score(X_test, y_test)\n",
    "    \n",
    "    print('Accuracy :' ,accuracy)\n",
    "    accuracies.append(accuracy)"
   ]
  },
  {
   "cell_type": "code",
   "execution_count": null,
   "metadata": {},
   "outputs": [],
   "source": []
  },
  {
   "cell_type": "code",
   "execution_count": null,
   "metadata": {},
   "outputs": [],
   "source": []
  },
  {
   "cell_type": "code",
   "execution_count": null,
   "metadata": {},
   "outputs": [],
   "source": []
  },
  {
   "cell_type": "code",
   "execution_count": null,
   "metadata": {},
   "outputs": [],
   "source": []
  },
  {
   "cell_type": "code",
   "execution_count": null,
   "metadata": {},
   "outputs": [],
   "source": []
  },
  {
   "cell_type": "code",
   "execution_count": null,
   "metadata": {},
   "outputs": [],
   "source": []
  }
 ],
 "metadata": {
  "kernelspec": {
   "display_name": "Python 3",
   "language": "python",
   "name": "python3"
  }
 },
 "nbformat": 4,
 "nbformat_minor": 2
}
