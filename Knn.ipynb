{
 "cells": [
  {
   "cell_type": "code",
   "execution_count": 1,
   "metadata": {},
   "outputs": [],
   "source": [
    "import numpy as np\n",
    "from math import sqrt\n",
    "import warnings\n",
    "from collections import Counter\n",
    "import pandas as pd\n",
    "import random"
   ]
  },
  {
   "cell_type": "code",
   "execution_count": 2,
   "metadata": {},
   "outputs": [
    {
     "name": "stdout",
     "output_type": "stream",
     "text": [
      "Accuracy : 0.974910394265233\n",
      "Accuracy : 0.9713261648745519\n",
      "Accuracy : 0.967741935483871\n",
      "Accuracy : 0.982078853046595\n",
      "Accuracy : 0.967741935483871\n",
      "Accuracy : 0.96415770609319\n",
      "Accuracy : 0.978494623655914\n",
      "Accuracy : 0.9713261648745519\n",
      "Accuracy : 0.982078853046595\n",
      "Accuracy : 0.978494623655914\n",
      "Accuracy : 0.96415770609319\n",
      "Accuracy : 0.9713261648745519\n",
      "Accuracy : 0.953405017921147\n",
      "Accuracy : 0.9713261648745519\n",
      "Accuracy : 0.956989247311828\n",
      "Accuracy : 0.9605734767025089\n",
      "Accuracy : 0.9713261648745519\n",
      "Accuracy : 0.974910394265233\n",
      "Accuracy : 0.9713261648745519\n",
      "Accuracy : 0.96415770609319\n",
      "Accuracy : 0.967741935483871\n",
      "Accuracy : 0.978494623655914\n",
      "Accuracy : 0.978494623655914\n",
      "Accuracy : 0.9713261648745519\n",
      "Accuracy : 0.974910394265233\n",
      "Accuracies :  0.9707526881720429\n"
     ]
    }
   ],
   "source": [
    "def k_nearest_neighbors(data, predict, k=3):\n",
    "    if(len(data) >= k):\n",
    "        warnings.warn('k is set to value less than total voting groups');\n",
    "\n",
    "    distances = []\n",
    "    for group in data:\n",
    "        for features in data[group]:\n",
    "            # ecludein_distance = np.sqrt( np.sum( (np.array(feature) - np.array(predict)**2 ) ) )\n",
    "            ecludein_distance = np.linalg.norm(np.array(features) - np.array(predict))\n",
    "            distances.append([ecludein_distance, group])\n",
    "    votes = [i[1] for i in sorted(distances)[:k]]\n",
    "    vote_result = Counter(votes).most_common(1)[0][0]\n",
    "    confidence = Counter(votes).most_common(1)[0][1] / k\n",
    "\n",
    "    return vote_result, confidence\n",
    "\n",
    "\n",
    "accuracies = []\n",
    "for i in range(25):\n",
    "    df = pd.read_csv('C:/Users/Tushar/Documents/SentDex ML/breast-cancer-wisconsin.data')\n",
    "    df.replace('?',-99999,inplace=True)\n",
    "    df.drop(['id'],1,inplace=True)\n",
    "\n",
    "    full_data = df.astype(float).values.tolist()\n",
    "    random.shuffle(full_data)\n",
    "    test_size = 0.4\n",
    "\n",
    "    train_set = {2:[], 4:[]}\n",
    "    test_set = {2:[], 4:[]}\n",
    "\n",
    "    train_data = full_data[:-int(test_size*len(full_data))]\n",
    "    test_data = full_data[-int(test_size*len(full_data)):]\n",
    "\n",
    "    for i in train_data:\n",
    "        train_set[i[-1]].append(i[:-1])\n",
    "\n",
    "    for i in test_data:\n",
    "        test_set[i[-1]].append(i[:-1])\n",
    "\n",
    "    correct = 0\n",
    "    total = 0\n",
    "\n",
    "    for gropu in test_set:\n",
    "        for data in test_set[gropu]:\n",
    "            vote, confidence = k_nearest_neighbors(train_set,data,k=5)\n",
    "            if gropu == vote:\n",
    "                correct +=1\n",
    "            # else:\n",
    "            #    print(confidence)\n",
    "            total +=1\n",
    "    print('Accuracy :',correct/total)\n",
    "    accuracies.append(correct/total)\n",
    "\n",
    "print('Accuracies : ',sum(accuracies)/len(accuracies))"
   ]
  },
  {
   "cell_type": "code",
   "execution_count": null,
   "metadata": {},
   "outputs": [],
   "source": []
  }
 ],
 "metadata": {
  "kernelspec": {
   "display_name": "Python 3",
   "language": "python",
   "name": "python3"
  },
  "language_info": {
   "codemirror_mode": {
    "name": "ipython",
    "version": 3
   },
   "file_extension": ".py",
   "mimetype": "text/x-python",
   "name": "python",
   "nbconvert_exporter": "python",
   "pygments_lexer": "ipython3",
   "version": "3.7.6"
  }
 },
 "nbformat": 4,
 "nbformat_minor": 2
}
