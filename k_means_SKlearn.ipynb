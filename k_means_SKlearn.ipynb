{
 "cells": [
  {
   "cell_type": "code",
   "execution_count": 1,
   "metadata": {},
   "outputs": [
    {
     "data": {
      "image/png": "[encoded data removed]",
      "text/plain": [
       "<Figure size 432x288 with 1 Axes>"
      ]
     },
     "metadata": {},
     "output_type": "display_data"
    },
    {
     "name": "stdout",
     "output_type": "stream",
     "text": [
      "[[ 1.   0.6]\n",
      " [ 9.  11. ]\n",
      " [ 8.   8. ]\n",
      " [ 5.   8. ]\n",
      " [ 1.5  1.8]\n",
      " [ 1.   2. ]] [5 4 3 2 0 1]\n"
     ]
    }
   ],
   "source": [
    "import matplotlib.pyplot as plt\n",
    "from matplotlib import style\n",
    "import numpy as np\n",
    "from sklearn.cluster import KMeans\n",
    "style.use('ggplot')\n",
    "\n",
    "X = np.array([\n",
    "\t[1,2],[1.5,1.8],[5,8],[8,8],[1,0.6],[9,11]\n",
    "\t])\n",
    "\n",
    "# plt.scatter(X[:,0],X[:,1],s=150)\n",
    "# plt.show()\n",
    "clf = KMeans(n_clusters=6)\n",
    "# it is obvious that =>\n",
    "# number of clusters must be equal to\n",
    "# atleast number of data points you have\n",
    "\n",
    "clf.fit(X)\n",
    "\n",
    "centroids = clf.cluster_centers_\n",
    "labels = clf.labels_\n",
    "\n",
    "color =[\"g.\",\"r.\",\"c.\",\"b.\",\"k.\",\"y.\"]\n",
    "\n",
    "for i in range(len(X)):\n",
    "\tplt.plot(X[i][0],X[i][1],color[labels[i]],markersize = 20)\n",
    "\n",
    "plt.scatter(centroids[:,0],centroids[:,1], marker = 'x',s=150,linewidths=5)\n",
    "plt.show()\n",
    "print(centroids,labels)"
   ]
  },
  {
   "cell_type": "code",
   "execution_count": null,
   "metadata": {},
   "outputs": [],
   "source": []
  }
 ],
 "metadata": {
  "kernelspec": {
   "display_name": "Python 3",
   "language": "python",
   "name": "python3"
  },
  "language_info": {
   "codemirror_mode": {
    "name": "ipython",
    "version": 3
   },
   "file_extension": ".py",
   "mimetype": "text/x-python",
   "name": "python",
   "nbconvert_exporter": "python",
   "pygments_lexer": "ipython3",
   "version": "3.7.6"
  }
 },
 "nbformat": 4,
 "nbformat_minor": 4
}
