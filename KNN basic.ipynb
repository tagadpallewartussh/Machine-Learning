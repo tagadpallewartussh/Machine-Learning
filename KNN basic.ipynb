{
 "cells": [
  {
   "cell_type": "code",
   "execution_count": 2,
   "metadata": {},
   "outputs": [],
   "source": [
    "import numpy as np\n",
    "from math import sqrt\n",
    "import matplotlib.pyplot as plt\n",
    "import warnings\n",
    "from matplotlib import style\n",
    "from collections import Counter\n",
    "style.use('fivethirtyeight')"
   ]
  },
  {
   "cell_type": "code",
   "execution_count": 8,
   "metadata": {},
   "outputs": [
    {
     "name": "stdout",
     "output_type": "stream",
     "text": [
      "[('r', 3)]\n",
      "r\n"
     ]
    },
    {
     "data": {
      "image/png": "[encoded data removed]",
      "text/plain": [
       "<Figure size 432x288 with 1 Axes>"
      ]
     },
     "metadata": {},
     "output_type": "display_data"
    }
   ],
   "source": [
    "dataset = {'k':[[1,2],[2,3],[3,4]], 'r':[[6,5],[7,7],[8,6]]}\n",
    "new_feature = [5,7]\n",
    "\n",
    "def k_nearest_neighbors(data, predict, k=3):\n",
    "    if(len(data) >= k):\n",
    "        warnings.warn('k is set to value less than total voting groups');\n",
    "        \n",
    "    distances = []\n",
    "    for group in data:\n",
    "        for features in data[group]:\n",
    "            \n",
    "            ecludein_distance = np.linalg.norm(np.array(features) - np.array(predict))\n",
    "            distances.append([ecludein_distance, group])\n",
    "            \n",
    "    votes = [i[1] for i in sorted(distances)[:k]]\n",
    "    print(Counter(votes).most_common(1))\n",
    "    vote_result = Counter(votes).most_common(1)[0][0]\n",
    "\n",
    "    return vote_result\n",
    "\n",
    "result = k_nearest_neighbors(dataset, new_feature, k=3)\n",
    "print(result)\n",
    "        \n",
    "[[plt.scatter(ii[0],ii[1], s=100, color=i) for ii in dataset[i]] for i in dataset]\n",
    "plt.scatter(new_feature[0],new_feature[1], color=result)\n",
    "plt.show()    "
   ]
  },
  {
   "cell_type": "code",
   "execution_count": null,
   "metadata": {},
   "outputs": [],
   "source": []
  }
 ],
 "metadata": {
  "kernelspec": {
   "display_name": "Python 3",
   "language": "python",
   "name": "python3"
  },
  "language_info": {
   "codemirror_mode": {
    "name": "ipython",
    "version": 3
   },
   "file_extension": ".py",
   "mimetype": "text/x-python",
   "name": "python",
   "nbconvert_exporter": "python",
   "pygments_lexer": "ipython3",
   "version": "3.7.6"
  }
 },
 "nbformat": 4,
 "nbformat_minor": 4
}
